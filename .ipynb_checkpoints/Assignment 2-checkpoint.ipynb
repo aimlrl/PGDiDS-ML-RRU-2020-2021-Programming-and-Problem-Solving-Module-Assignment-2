{
 "cells": [
  {
   "cell_type": "markdown",
   "metadata": {},
   "source": [
    "# Create four different user defined functions to check whether the string is a GST Number, PAN Number, Driver's License Number or Adhaar Number. As an example. \n",
    "\n",
    "\n",
    "# A PAN Number looks like this:\n",
    "\n",
    "# ABCDE1234F\n",
    "\n",
    "\n",
    "\n",
    "# A GST Number looks like this:\n",
    "\n",
    "# 12ABCDE3456F7G8\n",
    "\n",
    "\n",
    "\n",
    "# A Driver's Licence Number looks like this:\n",
    "\n",
    "# AB1234561234567\n",
    "\n",
    "\n",
    "# Adhaar Number looks like this:\n",
    "\n",
    "# 123412341234\n",
    "\n",
    "\n",
    "# Each function should return True if the number is PAN, GST, Driver's Licence or Adhaar Number otherwise it should return False\n",
    "\n",
    "# Check each of the four functions by passing a string to each of the functions and look for yourself that whether your function is working fine or not "
   ]
  },
  {
   "cell_type": "code",
   "execution_count": null,
   "metadata": {},
   "outputs": [],
   "source": []
  }
 ],
 "metadata": {
  "kernelspec": {
   "display_name": "Python 3",
   "language": "python",
   "name": "python3"
  },
  "language_info": {
   "codemirror_mode": {
    "name": "ipython",
    "version": 3
   },
   "file_extension": ".py",
   "mimetype": "text/x-python",
   "name": "python",
   "nbconvert_exporter": "python",
   "pygments_lexer": "ipython3",
   "version": "3.7.3"
  }
 },
 "nbformat": 4,
 "nbformat_minor": 2
}
